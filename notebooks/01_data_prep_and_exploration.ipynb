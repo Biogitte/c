{
 "cells": [
  {
   "cell_type": "code",
   "execution_count": null,
   "id": "verified-zimbabwe",
   "metadata": {},
   "outputs": [],
   "source": [
    "# import libraries\n",
    "import sys\n",
    "import os\n",
    "import pandas as pd"
   ]
  },
  {
   "cell_type": "code",
   "execution_count": null,
   "id": "ambient-democracy",
   "metadata": {},
   "outputs": [],
   "source": [
    "# import local modules\n",
    "from src.data.fetch_kaggle_data import fetch_kaggle_data\n",
    "from src.tools import explore \n",
    "from src.tools import visualise "
   ]
  },
  {
   "cell_type": "markdown",
   "id": "endangered-collectible",
   "metadata": {},
   "source": [
    "# Download and load data"
   ]
  },
  {
   "cell_type": "code",
   "execution_count": null,
   "id": "relative-folder",
   "metadata": {},
   "outputs": [],
   "source": [
    "# get environment variables\n",
    "DATA_RAW = os.getenv('DATA_RAW') # data directory for raw data\n",
    "DATA_PROC = os.getenv('DATA_PROC') # data directtory for processed data"
   ]
  },
  {
   "cell_type": "markdown",
   "id": "stock-titanium",
   "metadata": {},
   "source": [
    "Download a Kaggle data set (here we download a stroke prediction dataset). Remember to set up Kaggle authentication before downloading."
   ]
  },
  {
   "cell_type": "code",
   "execution_count": null,
   "id": "furnished-saturday",
   "metadata": {},
   "outputs": [],
   "source": [
    "# fetch_kaggle_data('fedesoriano/stroke-prediction-dataset', DATA_RAW)"
   ]
  },
  {
   "cell_type": "code",
   "execution_count": null,
   "id": "flying-surrey",
   "metadata": {},
   "outputs": [],
   "source": [
    "# set data path\n",
    "df_path = DATA_RAW + '/healthcare-dataset-stroke-data.csv'"
   ]
  },
  {
   "cell_type": "code",
   "execution_count": null,
   "id": "curious-absorption",
   "metadata": {},
   "outputs": [],
   "source": [
    "# import the data\n",
    "df = pd.read_csv(df_path)\n",
    "df.head()"
   ]
  },
  {
   "cell_type": "markdown",
   "id": "existing-gardening",
   "metadata": {},
   "source": [
    "# Data exploration"
   ]
  },
  {
   "cell_type": "code",
   "execution_count": null,
   "id": "strategic-flashing",
   "metadata": {},
   "outputs": [],
   "source": [
    "explore.Explore(df).print_dims()"
   ]
  },
  {
   "cell_type": "code",
   "execution_count": null,
   "id": "compliant-advocacy",
   "metadata": {},
   "outputs": [],
   "source": [
    "explore.Explore(df).top_unique_values(5)"
   ]
  },
  {
   "cell_type": "code",
   "execution_count": null,
   "id": "rolled-brook",
   "metadata": {},
   "outputs": [],
   "source": [
    "explore.Explore(df).missing_values()"
   ]
  },
  {
   "cell_type": "code",
   "execution_count": null,
   "id": "running-navigation",
   "metadata": {},
   "outputs": [],
   "source": [
    "explore.Explore(df).data_profiling(DATA_PROC)"
   ]
  },
  {
   "cell_type": "markdown",
   "id": "frozen-mandate",
   "metadata": {},
   "source": [
    "# Visualise data"
   ]
  },
  {
   "cell_type": "code",
   "execution_count": null,
   "id": "incredible-highlight",
   "metadata": {},
   "outputs": [],
   "source": [
    "class_object = visualise.Plotter(df, 'plotly_white')"
   ]
  },
  {
   "cell_type": "code",
   "execution_count": null,
   "id": "flexible-degree",
   "metadata": {},
   "outputs": [],
   "source": [
    "class_object.histogram('work_type')"
   ]
  },
  {
   "cell_type": "code",
   "execution_count": null,
   "id": "atmospheric-transparency",
   "metadata": {},
   "outputs": [],
   "source": [
    "class_object.histogram_panel()"
   ]
  },
  {
   "cell_type": "code",
   "execution_count": null,
   "id": "saved-gasoline",
   "metadata": {},
   "outputs": [],
   "source": [
    "class_object.density_plot(2)"
   ]
  },
  {
   "cell_type": "code",
   "execution_count": null,
   "id": "compound-dealer",
   "metadata": {},
   "outputs": [],
   "source": [
    "class_object.corr_plot()"
   ]
  }
 ],
 "metadata": {
  "kernelspec": {
   "display_name": "Python 3",
   "language": "python",
   "name": "python3"
  },
  "language_info": {
   "codemirror_mode": {
    "name": "ipython",
    "version": 3
   },
   "file_extension": ".py",
   "mimetype": "text/x-python",
   "name": "python",
   "nbconvert_exporter": "python",
   "pygments_lexer": "ipython3",
   "version": "3.7.6"
  }
 },
 "nbformat": 4,
 "nbformat_minor": 5
}
