{
 "cells": [
  {
   "cell_type": "code",
   "execution_count": 1,
   "id": "thermal-unknown",
   "metadata": {},
   "outputs": [],
   "source": [
    "# import libraries\n",
    "import sys\n",
    "import os\n",
    "import pandas as pd"
   ]
  },
  {
   "cell_type": "code",
   "execution_count": 2,
   "id": "anonymous-distinction",
   "metadata": {},
   "outputs": [],
   "source": [
    "# import local modules\n",
    "from src.data.fetch_kaggle_data import fetch_kaggle_data\n",
    "from src.tools import explore "
   ]
  },
  {
   "cell_type": "markdown",
   "id": "moral-washer",
   "metadata": {},
   "source": [
    "# Download and load data"
   ]
  },
  {
   "cell_type": "code",
   "execution_count": 3,
   "id": "prerequisite-truth",
   "metadata": {},
   "outputs": [],
   "source": [
    "# get environment variables\n",
    "DATA_RAW = os.getenv('DATA_RAW') # data directory for raw data\n",
    "DATA_PROC = os.getenv('DATA_PROC') # data directtory for processed data"
   ]
  },
  {
   "cell_type": "markdown",
   "id": "amateur-october",
   "metadata": {},
   "source": [
    "Download a Kaggle data set (here we download a stroke prediction dataset). Remember to set up Kaggle authentication before downloading."
   ]
  },
  {
   "cell_type": "code",
   "execution_count": 4,
   "id": "formal-defense",
   "metadata": {},
   "outputs": [],
   "source": [
    "# fetch_kaggle_data('fedesoriano/stroke-prediction-dataset', DATA_RAW)"
   ]
  },
  {
   "cell_type": "code",
   "execution_count": 5,
   "id": "wireless-blowing",
   "metadata": {},
   "outputs": [],
   "source": [
    "# set data path\n",
    "df_path = DATA_RAW + '/healthcare-dataset-stroke-data.csv'"
   ]
  },
  {
   "cell_type": "code",
   "execution_count": 6,
   "id": "abroad-saint",
   "metadata": {},
   "outputs": [
    {
     "data": {
      "text/html": [
       "<div>\n",
       "<style scoped>\n",
       "    .dataframe tbody tr th:only-of-type {\n",
       "        vertical-align: middle;\n",
       "    }\n",
       "\n",
       "    .dataframe tbody tr th {\n",
       "        vertical-align: top;\n",
       "    }\n",
       "\n",
       "    .dataframe thead th {\n",
       "        text-align: right;\n",
       "    }\n",
       "</style>\n",
       "<table border=\"1\" class=\"dataframe\">\n",
       "  <thead>\n",
       "    <tr style=\"text-align: right;\">\n",
       "      <th></th>\n",
       "      <th>id</th>\n",
       "      <th>gender</th>\n",
       "      <th>age</th>\n",
       "      <th>hypertension</th>\n",
       "      <th>heart_disease</th>\n",
       "      <th>ever_married</th>\n",
       "      <th>work_type</th>\n",
       "      <th>Residence_type</th>\n",
       "      <th>avg_glucose_level</th>\n",
       "      <th>bmi</th>\n",
       "      <th>smoking_status</th>\n",
       "      <th>stroke</th>\n",
       "    </tr>\n",
       "  </thead>\n",
       "  <tbody>\n",
       "    <tr>\n",
       "      <th>0</th>\n",
       "      <td>9046</td>\n",
       "      <td>Male</td>\n",
       "      <td>67.0</td>\n",
       "      <td>0</td>\n",
       "      <td>1</td>\n",
       "      <td>Yes</td>\n",
       "      <td>Private</td>\n",
       "      <td>Urban</td>\n",
       "      <td>228.69</td>\n",
       "      <td>36.6</td>\n",
       "      <td>formerly smoked</td>\n",
       "      <td>1</td>\n",
       "    </tr>\n",
       "    <tr>\n",
       "      <th>1</th>\n",
       "      <td>51676</td>\n",
       "      <td>Female</td>\n",
       "      <td>61.0</td>\n",
       "      <td>0</td>\n",
       "      <td>0</td>\n",
       "      <td>Yes</td>\n",
       "      <td>Self-employed</td>\n",
       "      <td>Rural</td>\n",
       "      <td>202.21</td>\n",
       "      <td>NaN</td>\n",
       "      <td>never smoked</td>\n",
       "      <td>1</td>\n",
       "    </tr>\n",
       "    <tr>\n",
       "      <th>2</th>\n",
       "      <td>31112</td>\n",
       "      <td>Male</td>\n",
       "      <td>80.0</td>\n",
       "      <td>0</td>\n",
       "      <td>1</td>\n",
       "      <td>Yes</td>\n",
       "      <td>Private</td>\n",
       "      <td>Rural</td>\n",
       "      <td>105.92</td>\n",
       "      <td>32.5</td>\n",
       "      <td>never smoked</td>\n",
       "      <td>1</td>\n",
       "    </tr>\n",
       "    <tr>\n",
       "      <th>3</th>\n",
       "      <td>60182</td>\n",
       "      <td>Female</td>\n",
       "      <td>49.0</td>\n",
       "      <td>0</td>\n",
       "      <td>0</td>\n",
       "      <td>Yes</td>\n",
       "      <td>Private</td>\n",
       "      <td>Urban</td>\n",
       "      <td>171.23</td>\n",
       "      <td>34.4</td>\n",
       "      <td>smokes</td>\n",
       "      <td>1</td>\n",
       "    </tr>\n",
       "    <tr>\n",
       "      <th>4</th>\n",
       "      <td>1665</td>\n",
       "      <td>Female</td>\n",
       "      <td>79.0</td>\n",
       "      <td>1</td>\n",
       "      <td>0</td>\n",
       "      <td>Yes</td>\n",
       "      <td>Self-employed</td>\n",
       "      <td>Rural</td>\n",
       "      <td>174.12</td>\n",
       "      <td>24.0</td>\n",
       "      <td>never smoked</td>\n",
       "      <td>1</td>\n",
       "    </tr>\n",
       "  </tbody>\n",
       "</table>\n",
       "</div>"
      ],
      "text/plain": [
       "      id  gender   age  hypertension  heart_disease ever_married  \\\n",
       "0   9046    Male  67.0             0              1          Yes   \n",
       "1  51676  Female  61.0             0              0          Yes   \n",
       "2  31112    Male  80.0             0              1          Yes   \n",
       "3  60182  Female  49.0             0              0          Yes   \n",
       "4   1665  Female  79.0             1              0          Yes   \n",
       "\n",
       "       work_type Residence_type  avg_glucose_level   bmi   smoking_status  \\\n",
       "0        Private          Urban             228.69  36.6  formerly smoked   \n",
       "1  Self-employed          Rural             202.21   NaN     never smoked   \n",
       "2        Private          Rural             105.92  32.5     never smoked   \n",
       "3        Private          Urban             171.23  34.4           smokes   \n",
       "4  Self-employed          Rural             174.12  24.0     never smoked   \n",
       "\n",
       "   stroke  \n",
       "0       1  \n",
       "1       1  \n",
       "2       1  \n",
       "3       1  \n",
       "4       1  "
      ]
     },
     "execution_count": 6,
     "metadata": {},
     "output_type": "execute_result"
    }
   ],
   "source": [
    "# import the data\n",
    "df = pd.read_csv(df_path)\n",
    "df.head()"
   ]
  },
  {
   "cell_type": "markdown",
   "id": "ecological-schema",
   "metadata": {},
   "source": [
    "# Data exploration"
   ]
  },
  {
   "cell_type": "code",
   "execution_count": 7,
   "id": "third-spotlight",
   "metadata": {},
   "outputs": [
    {
     "name": "stdout",
     "output_type": "stream",
     "text": [
      "Dataframe features:\n",
      "id\n",
      "gender\n",
      "age\n",
      "hypertension\n",
      "heart_disease\n",
      "ever_married\n",
      "work_type\n",
      "Residence_type\n",
      "avg_glucose_level\n",
      "bmi\n",
      "smoking_status\n",
      "stroke\n"
     ]
    },
    {
     "data": {
      "text/plain": [
       "'The dataframe consist of 12 features and 5110 records'"
      ]
     },
     "execution_count": 7,
     "metadata": {},
     "output_type": "execute_result"
    }
   ],
   "source": [
    "explore.Explore(df).print_dims()"
   ]
  },
  {
   "cell_type": "code",
   "execution_count": 8,
   "id": "adaptive-registration",
   "metadata": {},
   "outputs": [
    {
     "name": "stdout",
     "output_type": "stream",
     "text": [
      "0 id <class 'numpy.int64'> 5110 [ 9046 51676 31112 60182  1665]\n",
      "0 gender <class 'str'> 3 ['Male' 'Female' 'Other']\n",
      "0 age <class 'numpy.float64'> 104 [67. 61. 80. 49. 79.]\n",
      "0 hypertension <class 'numpy.int64'> 2 [0 1]\n",
      "0 heart_disease <class 'numpy.int64'> 2 [1 0]\n",
      "0 ever_married <class 'str'> 2 ['Yes' 'No']\n",
      "0 work_type <class 'str'> 5 ['Private' 'Self-employed' 'Govt_job' 'children' 'Never_worked']\n",
      "0 Residence_type <class 'str'> 2 ['Urban' 'Rural']\n",
      "0 avg_glucose_level <class 'numpy.float64'> 3979 [228.69 202.21 105.92 171.23 174.12]\n",
      "0 bmi <class 'numpy.float64'> 419 [36.6  nan 32.5 34.4 24. ]\n",
      "0 smoking_status <class 'str'> 4 ['formerly smoked' 'never smoked' 'smokes' 'Unknown']\n",
      "0 stroke <class 'numpy.int64'> 2 [1 0]\n"
     ]
    }
   ],
   "source": [
    "explore.Explore(df).top_unique_values(5)"
   ]
  },
  {
   "cell_type": "code",
   "execution_count": 9,
   "id": "virtual-norway",
   "metadata": {},
   "outputs": [
    {
     "data": {
      "text/plain": [
       "<AxesSubplot:>"
      ]
     },
     "execution_count": 9,
     "metadata": {},
     "output_type": "execute_result"
    },
    {
     "data": {
      "image/png": "[encoded data removed]",
      "text/plain": [
       "<Figure size 432x360 with 2 Axes>"
      ]
     },
     "metadata": {
      "needs_background": "light"
     },
     "output_type": "display_data"
    }
   ],
   "source": [
    "explore.Explore(df).missing_values()"
   ]
  },
  {
   "cell_type": "code",
   "execution_count": 10,
   "id": "freelance-laptop",
   "metadata": {},
   "outputs": [
    {
     "data": {
      "application/vnd.jupyter.widget-view+json": {
       "model_id": "654bddeaf6e640c39dd5ae2f18a1fac8",
       "version_major": 2,
       "version_minor": 0
      },
      "text/plain": [
       "Summarize dataset:   0%|          | 0/25 [00:00<?, ?it/s]"
      ]
     },
     "metadata": {},
     "output_type": "display_data"
    },
    {
     "data": {
      "application/vnd.jupyter.widget-view+json": {
       "model_id": "114e83b30db5401c9bfaa072d3b18948",
       "version_major": 2,
       "version_minor": 0
      },
      "text/plain": [
       "Generate report structure:   0%|          | 0/1 [00:00<?, ?it/s]"
      ]
     },
     "metadata": {},
     "output_type": "display_data"
    },
    {
     "data": {
      "application/vnd.jupyter.widget-view+json": {
       "model_id": "53ac05244749460d865300a21e269755",
       "version_major": 2,
       "version_minor": 0
      },
      "text/plain": [
       "Render HTML:   0%|          | 0/1 [00:00<?, ?it/s]"
      ]
     },
     "metadata": {},
     "output_type": "display_data"
    },
    {
     "name": "stderr",
     "output_type": "stream",
     "text": [
      "/Users/birgitte/Desktop/code/data_science/venv/lib/python3.7/site-packages/pandas_profiling/profile_report.py:284: UserWarning: Extension  not supported. For now we assume .html was intended. To remove this warning, please use .html or .json.\n",
      "  f\"Extension {suffix} not supported. For now we assume .html was intended. \"\n"
     ]
    },
    {
     "data": {
      "application/vnd.jupyter.widget-view+json": {
       "model_id": "1342d656c24d41c4b7592b209f75b5ee",
       "version_major": 2,
       "version_minor": 0
      },
      "text/plain": [
       "Export report to file:   0%|          | 0/1 [00:00<?, ?it/s]"
      ]
     },
     "metadata": {},
     "output_type": "display_data"
    },
    {
     "name": "stdout",
     "output_type": "stream",
     "text": [
      "(Data profiling completed. HTML file can be found here: /Users/birgitte/Desktop/code/data_science/data/processed)\n"
     ]
    },
    {
     "data": {
      "application/vnd.jupyter.widget-view+json": {
       "model_id": "",
       "version_major": 2,
       "version_minor": 0
      },
      "text/plain": [
       "Render widgets:   0%|          | 0/1 [00:00<?, ?it/s]"
      ]
     },
     "metadata": {},
     "output_type": "display_data"
    },
    {
     "data": {
      "application/vnd.jupyter.widget-view+json": {
       "model_id": "5bea153a9a46409faa3f654aa20dec8c",
       "version_major": 2,
       "version_minor": 0
      },
      "text/plain": [
       "VBox(children=(Tab(children=(Tab(children=(GridBox(children=(VBox(children=(GridspecLayout(children=(HTML(valu…"
      ]
     },
     "metadata": {},
     "output_type": "display_data"
    }
   ],
   "source": [
    "explore.Explore(df).data_profiling(DATA_PROC)"
   ]
  },
  {
   "cell_type": "code",
   "execution_count": null,
   "id": "twenty-disability",
   "metadata": {},
   "outputs": [],
   "source": []
  }
 ],
 "metadata": {
  "kernelspec": {
   "display_name": "Python 3",
   "language": "python",
   "name": "python3"
  },
  "language_info": {
   "codemirror_mode": {
    "name": "ipython",
    "version": 3
   },
   "file_extension": ".py",
   "mimetype": "text/x-python",
   "name": "python",
   "nbconvert_exporter": "python",
   "pygments_lexer": "ipython3",
   "version": "3.7.6"
  }
 },
 "nbformat": 4,
 "nbformat_minor": 5
}
